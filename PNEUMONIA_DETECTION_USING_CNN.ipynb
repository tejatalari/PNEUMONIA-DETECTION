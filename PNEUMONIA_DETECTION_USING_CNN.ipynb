{
 "cells": [
  {
   "cell_type": "markdown",
   "metadata": {
    "id": "LkCVmVBCukSZ"
   },
   "source": [
    "## OBJECTIVE:\n",
    "# DETECTING PNEUMONIA DISEASES BY PASSING CHEST XRAY SCAN OF DIFFERENT PATIENTS USING THE VGG19 CNN ARCHITECTURE"
   ]
  },
  {
   "cell_type": "code",
   "execution_count": null,
   "metadata": {
    "id": "bKZT5W79rE4W"
   },
   "outputs": [],
   "source": [
    "# Loading all the Libraries which we will be using in our prediction\n",
    "import numpy as np\n",
    "import pandas as pd\n",
    "import tensorflow as tf\n",
    "from tensorflow.keras.models import Sequential, Model\n",
    "from tensorflow.keras.layers import Dense, BatchNormalization,Dropout,Flatten,Conv2D,MaxPooling2D\n",
    "from sklearn.model_selection import train_test_split\n",
    "import cv2\n",
    "import zipfile\n",
    "import os\n",
    "from matplotlib import pyplot as plt\n",
    "import random as rand\n",
    "import seaborn as sns\n",
    "from tensorflow.keras.preprocessing.image import ImageDataGenerator\n",
    "from sklearn.preprocessing import LabelEncoder\n",
    "from tensorflow.keras.applications.vgg19 import VGG19\n",
    "from sklearn.metrics import classification_report\n",
    "from sklearn.metrics import confusion_matrix\n",
    "from collections import Counter"
   ]
  },
  {
   "cell_type": "code",
   "execution_count": null,
   "metadata": {
    "id": "przjbjsQsYfb"
   },
   "outputs": [],
   "source": [
    "# Extracting the Folders which has images of different classes\n",
    "with zipfile.ZipFile('/content/drive/MyDrive/chest_xray.zip','r') as zip_file:\n",
    "  zip_file.extractall('')"
   ]
  },
  {
   "cell_type": "code",
   "execution_count": null,
   "metadata": {
    "id": "VFLp19Y_z-kW"
   },
   "outputs": [],
   "source": [
    "# USING IMAGE DATA GENERATOR TO DO THE IMAGE AUGMENTATION ON OUR DATASET\n",
    "train_datagen = ImageDataGenerator(rescale = 1./255,\n",
    "                                   shear_range = 0.2,\n",
    "                                   zoom_range = 0.2,\n",
    "                                   horizontal_flip=  True)\n",
    "\n",
    "test_datagen = ImageDataGenerator(rescale = 1./255) "
   ]
  },
  {
   "cell_type": "markdown",
   "metadata": {
    "id": "Z4xnBSN1QULo"
   },
   "source": [
    "Loading the data\n",
    "OUR DATASET CONTAINS 2 CLASSES OF IMAGES\n",
    "1. NORMAL XRAY IMAGES OF PATIENTS\n",
    "2. PNEUMONIA AFFECTED PATIENTS XRAY IMAGES"
   ]
  },
  {
   "cell_type": "code",
   "execution_count": null,
   "metadata": {
    "colab": {
     "base_uri": "https://localhost:8080/"
    },
    "id": "RJszGsOPoOGs",
    "outputId": "41f903f4-58f5-44b1-bd31-44d0657ded80"
   },
   "outputs": [
    {
     "name": "stdout",
     "output_type": "stream",
     "text": [
      "Found 5216 images belonging to 2 classes.\n"
     ]
    }
   ],
   "source": [
    "\n",
    "train_data = train_datagen.flow_from_directory('/content/chest_xray/train', target_size = (224,224), batch_size = 32,\n",
    "                                               class_mode = 'categorical')"
   ]
  },
  {
   "cell_type": "code",
   "execution_count": null,
   "metadata": {
    "colab": {
     "base_uri": "https://localhost:8080/"
    },
    "id": "Q3sduUGhoOKm",
    "outputId": "e466f24a-ea7a-49e1-a263-d4b2f4ddf844"
   },
   "outputs": [
    {
     "name": "stdout",
     "output_type": "stream",
     "text": [
      "Found 624 images belonging to 2 classes.\n"
     ]
    }
   ],
   "source": [
    "test_data = test_datagen.flow_from_directory('/content/chest_xray/test', target_size = (224,224), batch_size = 32,\n",
    "                                               class_mode = 'categorical')"
   ]
  },
  {
   "cell_type": "code",
   "execution_count": null,
   "metadata": {
    "colab": {
     "base_uri": "https://localhost:8080/"
    },
    "id": "2H7bbajBoOMp",
    "outputId": "39577d9e-87a8-49d4-90ab-da7b6ce20290"
   },
   "outputs": [
    {
     "name": "stdout",
     "output_type": "stream",
     "text": [
      "{'NORMAL': 0, 'PNEUMONIA': 1}\n"
     ]
    }
   ],
   "source": [
    "# Names of all the classes present\n",
    "all_classes = train_data.class_indices\n",
    "print(all_classes)"
   ]
  },
  {
   "cell_type": "code",
   "execution_count": null,
   "metadata": {
    "id": "ZJbG06dPyZ0w"
   },
   "outputs": [],
   "source": [
    "counter =Counter(train_data.classes)"
   ]
  },
  {
   "cell_type": "code",
   "execution_count": null,
   "metadata": {
    "colab": {
     "base_uri": "https://localhost:8080/"
    },
    "id": "cDbLkpJJytgp",
    "outputId": "d9362a6f-3cc4-4361-e02d-6bc4ba7f9739"
   },
   "outputs": [
    {
     "name": "stdout",
     "output_type": "stream",
     "text": [
      "Counter({1: 3875, 0: 1341})\n",
      "dict_values([1341, 3875])\n"
     ]
    }
   ],
   "source": [
    "# CHECKING THE NUMBER OF IMAGES WE HAVE FOR EACH CLASS\n",
    "print(counter)\n",
    "print(counter.values())"
   ]
  },
  {
   "cell_type": "code",
   "execution_count": null,
   "metadata": {
    "id": "qqKvu2xBy_MZ"
   },
   "outputs": [],
   "source": [
    "# TAKING THE MAX VALUE FROM OUR COUNTER VARIABLE WHICH WE WILL USING FURTHER TO INFER CLASS WEIGHTS\n",
    "max_val = float(max(counter.values()))"
   ]
  },
  {
   "cell_type": "code",
   "execution_count": null,
   "metadata": {
    "id": "rUbZ3bziy_Vk"
   },
   "outputs": [],
   "source": [
    "# ADDING WEIGHTS TO THE CLASS WHICH HAS LESS NUMBER OF SAMPLES , SO THAT THE CLASS WHICH HAS LESS NUMBER OF SAMPLES WILL GET BIT HIGHER WEIGHTAGE WHILE TRAINING SO THAT OUR MODEL CAN PREDICT BOTH THE CLASSES \n",
    "class_weights = {class_id : max_val/num_images for class_id, num_images in counter.items()}"
   ]
  },
  {
   "cell_type": "code",
   "execution_count": null,
   "metadata": {
    "colab": {
     "base_uri": "https://localhost:8080/"
    },
    "id": "jE6eVCH7zJsP",
    "outputId": "2f21abf3-c3f7-402b-8061-1d692888c976"
   },
   "outputs": [
    {
     "name": "stdout",
     "output_type": "stream",
     "text": [
      "{0: 2.889634601043997, 1: 1.0}\n"
     ]
    }
   ],
   "source": [
    "# These are the class weights, as the class \"NORMAL\"  has less images so it got more weightage which we will use in the model fitting\n",
    "print(class_weights)"
   ]
  },
  {
   "cell_type": "markdown",
   "metadata": {
    "id": "bTGJfE103WFi"
   },
   "source": [
    "# PLOTTING THE IMAGES"
   ]
  },
  {
   "cell_type": "code",
   "execution_count": null,
   "metadata": {
    "colab": {
     "base_uri": "https://localhost:8080/",
     "height": 554
    },
    "id": "BGikQAecoOO3",
    "outputId": "99b68a17-eeeb-4f16-b164-4a7e32cb00f2"
   },
   "outputs": [
    {
     "data": {
      "image/png": "[encoded data removed]",
      "text/plain": [
       "<Figure size 432x288 with 1 Axes>"
      ]
     },
     "metadata": {
      "needs_background": "light",
      "tags": []
     },
     "output_type": "display_data"
    },
    {
     "name": "stdout",
     "output_type": "stream",
     "text": [
      "NORMAL\n"
     ]
    },
    {
     "data": {
      "image/png": "[encoded data removed]",
      "text/plain": [
       "<Figure size 432x288 with 1 Axes>"
      ]
     },
     "metadata": {
      "needs_background": "light",
      "tags": []
     },
     "output_type": "display_data"
    },
    {
     "name": "stdout",
     "output_type": "stream",
     "text": [
      "PNEUMONIA\n"
     ]
    }
   ],
   "source": [
    "for j in range(len(train_data[0][1])):\n",
    "  if list(train_data[0][1][j])[0]==1.:\n",
    "    plt.imshow(train_data[0][0][j])\n",
    "    plt.show()\n",
    "    print(list(all_classes.keys())[0])\n",
    "    break\n",
    "for j in range(len(train_data[0][1])):\n",
    "  if list(train_data[0][1][j])[1]==1.:\n",
    "    plt.imshow(train_data[0][0][j])\n",
    "    plt.show()\n",
    "    print(list(all_classes.keys())[1])\n",
    "    break"
   ]
  },
  {
   "cell_type": "code",
   "execution_count": null,
   "metadata": {
    "colab": {
     "base_uri": "https://localhost:8080/"
    },
    "id": "rwaTEOBKoOR6",
    "outputId": "56f40f85-cba9-4228-dae2-dfd46d3d3453"
   },
   "outputs": [
    {
     "name": "stdout",
     "output_type": "stream",
     "text": [
      "Downloading data from https://storage.googleapis.com/tensorflow/keras-applications/vgg19/vgg19_weights_tf_dim_ordering_tf_kernels_notop.h5\n",
      "80142336/80134624 [==============================] - 1s 0us/step\n"
     ]
    }
   ],
   "source": [
    "# Loading the VGG19 model\n",
    "vgg19 = VGG19(input_shape = (224,224,3), weights ='imagenet',include_top = False )"
   ]
  },
  {
   "cell_type": "code",
   "execution_count": null,
   "metadata": {
    "id": "hgbOvMTGoOWQ"
   },
   "outputs": [],
   "source": [
    "# don't train the existing weights: We will be using the the exisiting model weights as well for our model\n",
    "for layers in vgg19.layers:\n",
    "  layers.trainable = False"
   ]
  },
  {
   "cell_type": "code",
   "execution_count": null,
   "metadata": {
    "colab": {
     "base_uri": "https://localhost:8080/"
    },
    "id": "Qa6k2EkgqC_t",
    "outputId": "0b6fcf3a-dda0-4ed7-f464-bd9b90e000cf"
   },
   "outputs": [
    {
     "name": "stdout",
     "output_type": "stream",
     "text": [
      "Model: \"vgg19\"\n",
      "_________________________________________________________________\n",
      "Layer (type)                 Output Shape              Param #   \n",
      "=================================================================\n",
      "input_1 (InputLayer)         [(None, 224, 224, 3)]     0         \n",
      "_________________________________________________________________\n",
      "block1_conv1 (Conv2D)        (None, 224, 224, 64)      1792      \n",
      "_________________________________________________________________\n",
      "block1_conv2 (Conv2D)        (None, 224, 224, 64)      36928     \n",
      "_________________________________________________________________\n",
      "block1_pool (MaxPooling2D)   (None, 112, 112, 64)      0         \n",
      "_________________________________________________________________\n",
      "block2_conv1 (Conv2D)        (None, 112, 112, 128)     73856     \n",
      "_________________________________________________________________\n",
      "block2_conv2 (Conv2D)        (None, 112, 112, 128)     147584    \n",
      "_________________________________________________________________\n",
      "block2_pool (MaxPooling2D)   (None, 56, 56, 128)       0         \n",
      "_________________________________________________________________\n",
      "block3_conv1 (Conv2D)        (None, 56, 56, 256)       295168    \n",
      "_________________________________________________________________\n",
      "block3_conv2 (Conv2D)        (None, 56, 56, 256)       590080    \n",
      "_________________________________________________________________\n",
      "block3_conv3 (Conv2D)        (None, 56, 56, 256)       590080    \n",
      "_________________________________________________________________\n",
      "block3_conv4 (Conv2D)        (None, 56, 56, 256)       590080    \n",
      "_________________________________________________________________\n",
      "block3_pool (MaxPooling2D)   (None, 28, 28, 256)       0         \n",
      "_________________________________________________________________\n",
      "block4_conv1 (Conv2D)        (None, 28, 28, 512)       1180160   \n",
      "_________________________________________________________________\n",
      "block4_conv2 (Conv2D)        (None, 28, 28, 512)       2359808   \n",
      "_________________________________________________________________\n",
      "block4_conv3 (Conv2D)        (None, 28, 28, 512)       2359808   \n",
      "_________________________________________________________________\n",
      "block4_conv4 (Conv2D)        (None, 28, 28, 512)       2359808   \n",
      "_________________________________________________________________\n",
      "block4_pool (MaxPooling2D)   (None, 14, 14, 512)       0         \n",
      "_________________________________________________________________\n",
      "block5_conv1 (Conv2D)        (None, 14, 14, 512)       2359808   \n",
      "_________________________________________________________________\n",
      "block5_conv2 (Conv2D)        (None, 14, 14, 512)       2359808   \n",
      "_________________________________________________________________\n",
      "block5_conv3 (Conv2D)        (None, 14, 14, 512)       2359808   \n",
      "_________________________________________________________________\n",
      "block5_conv4 (Conv2D)        (None, 14, 14, 512)       2359808   \n",
      "_________________________________________________________________\n",
      "block5_pool (MaxPooling2D)   (None, 7, 7, 512)         0         \n",
      "=================================================================\n",
      "Total params: 20,024,384\n",
      "Trainable params: 0\n",
      "Non-trainable params: 20,024,384\n",
      "_________________________________________________________________\n"
     ]
    }
   ],
   "source": [
    "vgg19.summary()"
   ]
  },
  {
   "cell_type": "code",
   "execution_count": null,
   "metadata": {
    "id": "D3gS5dqrpumH"
   },
   "outputs": [],
   "source": [
    "# ADDING OUR CUSTOM TOP LAYER TO OUR VGG19 MODEL AS OUR VGG19 MODEL WAS TRAINED ON 1000 CLASSES, WHILE IN OUR DATASET WE HAVE ONLY 2 CLASSES\n",
    "flatten = Flatten()(vgg19.output)\n",
    "dense = Dense(64, activation = 'relu')(flatten)\n",
    "dense = Dense(32, activation = 'relu')(dense)\n",
    "prediction = Dense(2, activation = 'softmax')(dense)"
   ]
  },
  {
   "cell_type": "code",
   "execution_count": null,
   "metadata": {
    "id": "fELQ3123puaG"
   },
   "outputs": [],
   "source": [
    "#creating a model\n",
    "model = Model(inputs = vgg19.input, outputs = prediction )"
   ]
  },
  {
   "cell_type": "code",
   "execution_count": null,
   "metadata": {
    "colab": {
     "base_uri": "https://localhost:8080/"
    },
    "id": "WtLqtP1UrU9Y",
    "outputId": "ec8ecf7f-57fb-4ce9-8de5-e286dfe881c7"
   },
   "outputs": [
    {
     "name": "stdout",
     "output_type": "stream",
     "text": [
      "Model: \"model\"\n",
      "_________________________________________________________________\n",
      "Layer (type)                 Output Shape              Param #   \n",
      "=================================================================\n",
      "input_1 (InputLayer)         [(None, 224, 224, 3)]     0         \n",
      "_________________________________________________________________\n",
      "block1_conv1 (Conv2D)        (None, 224, 224, 64)      1792      \n",
      "_________________________________________________________________\n",
      "block1_conv2 (Conv2D)        (None, 224, 224, 64)      36928     \n",
      "_________________________________________________________________\n",
      "block1_pool (MaxPooling2D)   (None, 112, 112, 64)      0         \n",
      "_________________________________________________________________\n",
      "block2_conv1 (Conv2D)        (None, 112, 112, 128)     73856     \n",
      "_________________________________________________________________\n",
      "block2_conv2 (Conv2D)        (None, 112, 112, 128)     147584    \n",
      "_________________________________________________________________\n",
      "block2_pool (MaxPooling2D)   (None, 56, 56, 128)       0         \n",
      "_________________________________________________________________\n",
      "block3_conv1 (Conv2D)        (None, 56, 56, 256)       295168    \n",
      "_________________________________________________________________\n",
      "block3_conv2 (Conv2D)        (None, 56, 56, 256)       590080    \n",
      "_________________________________________________________________\n",
      "block3_conv3 (Conv2D)        (None, 56, 56, 256)       590080    \n",
      "_________________________________________________________________\n",
      "block3_conv4 (Conv2D)        (None, 56, 56, 256)       590080    \n",
      "_________________________________________________________________\n",
      "block3_pool (MaxPooling2D)   (None, 28, 28, 256)       0         \n",
      "_________________________________________________________________\n",
      "block4_conv1 (Conv2D)        (None, 28, 28, 512)       1180160   \n",
      "_________________________________________________________________\n",
      "block4_conv2 (Conv2D)        (None, 28, 28, 512)       2359808   \n",
      "_________________________________________________________________\n",
      "block4_conv3 (Conv2D)        (None, 28, 28, 512)       2359808   \n",
      "_________________________________________________________________\n",
      "block4_conv4 (Conv2D)        (None, 28, 28, 512)       2359808   \n",
      "_________________________________________________________________\n",
      "block4_pool (MaxPooling2D)   (None, 14, 14, 512)       0         \n",
      "_________________________________________________________________\n",
      "block5_conv1 (Conv2D)        (None, 14, 14, 512)       2359808   \n",
      "_________________________________________________________________\n",
      "block5_conv2 (Conv2D)        (None, 14, 14, 512)       2359808   \n",
      "_________________________________________________________________\n",
      "block5_conv3 (Conv2D)        (None, 14, 14, 512)       2359808   \n",
      "_________________________________________________________________\n",
      "block5_conv4 (Conv2D)        (None, 14, 14, 512)       2359808   \n",
      "_________________________________________________________________\n",
      "block5_pool (MaxPooling2D)   (None, 7, 7, 512)         0         \n",
      "_________________________________________________________________\n",
      "flatten (Flatten)            (None, 25088)             0         \n",
      "_________________________________________________________________\n",
      "dense (Dense)                (None, 64)                1605696   \n",
      "_________________________________________________________________\n",
      "dense_1 (Dense)              (None, 32)                2080      \n",
      "_________________________________________________________________\n",
      "dense_2 (Dense)              (None, 2)                 66        \n",
      "=================================================================\n",
      "Total params: 21,632,226\n",
      "Trainable params: 1,607,842\n",
      "Non-trainable params: 20,024,384\n",
      "_________________________________________________________________\n"
     ]
    }
   ],
   "source": [
    "model.summary()"
   ]
  },
  {
   "cell_type": "code",
   "execution_count": null,
   "metadata": {
    "id": "RwRHQX-Ar280"
   },
   "outputs": [],
   "source": [
    "# COMPILING THE MODEL\n",
    "\n",
    "model.compile(loss = 'categorical_crossentropy', optimizer = 'adam', metrics = ['accuracy'])"
   ]
  },
  {
   "cell_type": "code",
   "execution_count": null,
   "metadata": {
    "colab": {
     "base_uri": "https://localhost:8080/"
    },
    "id": "ZA-wP7vArcHb",
    "outputId": "8d56d756-4f05-47ea-d693-4d2502a7c143"
   },
   "outputs": [
    {
     "name": "stderr",
     "output_type": "stream",
     "text": [
      "/usr/local/lib/python3.7/dist-packages/tensorflow/python/keras/engine/training.py:1940: UserWarning: `Model.fit_generator` is deprecated and will be removed in a future version. Please use `Model.fit`, which supports generators.\n",
      "  warnings.warn('`Model.fit_generator` is deprecated and '\n"
     ]
    },
    {
     "name": "stdout",
     "output_type": "stream",
     "text": [
      "WARNING:tensorflow:From /usr/local/lib/python3.7/dist-packages/tensorflow/python/ops/array_ops.py:5049: calling gather (from tensorflow.python.ops.array_ops) with validate_indices is deprecated and will be removed in a future version.\n",
      "Instructions for updating:\n",
      "The `validate_indices` argument has no effect. Indices are always validated on CPU and never validated on GPU.\n",
      "Epoch 1/20\n",
      "163/163 [==============================] - 142s 629ms/step - loss: 0.4719 - accuracy: 0.8694 - val_loss: 0.2779 - val_accuracy: 0.8878\n",
      "Epoch 2/20\n",
      "163/163 [==============================] - 99s 608ms/step - loss: 0.2532 - accuracy: 0.9306 - val_loss: 0.2420 - val_accuracy: 0.9199\n",
      "Epoch 3/20\n",
      "163/163 [==============================] - 104s 641ms/step - loss: 0.1996 - accuracy: 0.9475 - val_loss: 0.4813 - val_accuracy: 0.8526\n",
      "Epoch 4/20\n",
      "163/163 [==============================] - 99s 604ms/step - loss: 0.1901 - accuracy: 0.9482 - val_loss: 0.3016 - val_accuracy: 0.8814\n",
      "Epoch 5/20\n",
      "163/163 [==============================] - 98s 602ms/step - loss: 0.1730 - accuracy: 0.9544 - val_loss: 0.2364 - val_accuracy: 0.9087\n",
      "Epoch 6/20\n",
      "163/163 [==============================] - 99s 604ms/step - loss: 0.1591 - accuracy: 0.9592 - val_loss: 0.2664 - val_accuracy: 0.9087\n",
      "Epoch 7/20\n",
      "163/163 [==============================] - 99s 605ms/step - loss: 0.1373 - accuracy: 0.9647 - val_loss: 0.4046 - val_accuracy: 0.8958\n",
      "Epoch 8/20\n",
      "163/163 [==============================] - 99s 605ms/step - loss: 0.1387 - accuracy: 0.9609 - val_loss: 0.3487 - val_accuracy: 0.9006\n",
      "Epoch 9/20\n",
      "163/163 [==============================] - 99s 604ms/step - loss: 0.1662 - accuracy: 0.9553 - val_loss: 0.2806 - val_accuracy: 0.9054\n",
      "Epoch 10/20\n",
      "163/163 [==============================] - 98s 603ms/step - loss: 0.1524 - accuracy: 0.9603 - val_loss: 0.2453 - val_accuracy: 0.9135\n",
      "Epoch 11/20\n",
      "163/163 [==============================] - 99s 605ms/step - loss: 0.1413 - accuracy: 0.9626 - val_loss: 0.2682 - val_accuracy: 0.8958\n",
      "Epoch 12/20\n",
      "163/163 [==============================] - 99s 606ms/step - loss: 0.1189 - accuracy: 0.9691 - val_loss: 0.2673 - val_accuracy: 0.9167\n",
      "Epoch 13/20\n",
      "163/163 [==============================] - 103s 631ms/step - loss: 0.1327 - accuracy: 0.9653 - val_loss: 0.2566 - val_accuracy: 0.9167\n",
      "Epoch 14/20\n",
      "163/163 [==============================] - 98s 600ms/step - loss: 0.1260 - accuracy: 0.9632 - val_loss: 0.2432 - val_accuracy: 0.9167\n",
      "Epoch 15/20\n",
      "163/163 [==============================] - 98s 601ms/step - loss: 0.1231 - accuracy: 0.9695 - val_loss: 0.3095 - val_accuracy: 0.9038\n",
      "Epoch 16/20\n",
      "163/163 [==============================] - 98s 599ms/step - loss: 0.1131 - accuracy: 0.9703 - val_loss: 0.3238 - val_accuracy: 0.8766\n",
      "Epoch 17/20\n",
      "163/163 [==============================] - 98s 599ms/step - loss: 0.1142 - accuracy: 0.9712 - val_loss: 0.2855 - val_accuracy: 0.9151\n",
      "Epoch 18/20\n",
      "163/163 [==============================] - 98s 601ms/step - loss: 0.1217 - accuracy: 0.9668 - val_loss: 0.2957 - val_accuracy: 0.9038\n",
      "Epoch 19/20\n",
      "163/163 [==============================] - 98s 598ms/step - loss: 0.1204 - accuracy: 0.9678 - val_loss: 0.3187 - val_accuracy: 0.9215\n",
      "Epoch 20/20\n",
      "163/163 [==============================] - 97s 597ms/step - loss: 0.1170 - accuracy: 0.9705 - val_loss: 0.3406 - val_accuracy: 0.8830\n"
     ]
    }
   ],
   "source": [
    "#executing the model\n",
    "history = model.fit_generator(train_data, validation_data = (test_data), epochs = 20, verbose = 1, class_weight = class_weights)"
   ]
  },
  {
   "cell_type": "code",
   "execution_count": null,
   "metadata": {
    "colab": {
     "base_uri": "https://localhost:8080/",
     "height": 281
    },
    "id": "qBgrF9U-rw-y",
    "outputId": "64aa479f-aa70-442c-ce25-95845c9c1ce1"
   },
   "outputs": [
    {
     "data": {
      "image/png": "[encoded data removed]",
      "text/plain": [
       "<Figure size 432x288 with 1 Axes>"
      ]
     },
     "metadata": {
      "needs_background": "light",
      "tags": []
     },
     "output_type": "display_data"
    }
   ],
   "source": [
    "# plotting the loss\n",
    "plt.plot(history.history['loss'],label = 'train_loss')\n",
    "plt.plot(history.history['val_loss'], label = 'testing_loss')\n",
    "plt.title('loss')\n",
    "plt.legend()\n",
    "plt.show()"
   ]
  },
  {
   "cell_type": "code",
   "execution_count": null,
   "metadata": {
    "colab": {
     "base_uri": "https://localhost:8080/",
     "height": 281
    },
    "id": "9oLMm0WDw4og",
    "outputId": "609d49f2-ee29-48b8-e2c5-2a0c7f7f8a9a"
   },
   "outputs": [
    {
     "data": {
      "image/png": "[encoded data removed]",
      "text/plain": [
       "<Figure size 432x288 with 1 Axes>"
      ]
     },
     "metadata": {
      "needs_background": "light",
      "tags": []
     },
     "output_type": "display_data"
    }
   ],
   "source": [
    "# Both Validation and Training accuracy is shown here\n",
    "\n",
    "plt.plot(history.history['accuracy'], label='training_accuracy')\n",
    "plt.plot(history.history['val_accuracy'], label='validation accuracy')\n",
    "plt.title('Accuracy')\n",
    "plt.legend()\n",
    "plt.show()"
   ]
  },
  {
   "cell_type": "code",
   "execution_count": null,
   "metadata": {
    "colab": {
     "base_uri": "https://localhost:8080/"
    },
    "id": "lrMfb5tlxQMy",
    "outputId": "d2217571-7d50-419d-a61b-ec2a7da8eb37"
   },
   "outputs": [
    {
     "name": "stderr",
     "output_type": "stream",
     "text": [
      "/usr/local/lib/python3.7/dist-packages/tensorflow/python/keras/engine/training.py:2001: UserWarning: `Model.predict_generator` is deprecated and will be removed in a future version. Please use `Model.predict`, which supports generators.\n",
      "  warnings.warn('`Model.predict_generator` is deprecated and '\n"
     ]
    },
    {
     "name": "stdout",
     "output_type": "stream",
     "text": [
      "Confusion Matrix\n",
      "[[108 126]\n",
      " [163 227]]\n",
      "Classification Report\n",
      "              precision    recall  f1-score   support\n",
      "\n",
      "      NORMAL       0.40      0.46      0.43       234\n",
      "   PNEUMONIA       0.64      0.58      0.61       390\n",
      "\n",
      "    accuracy                           0.54       624\n",
      "   macro avg       0.52      0.52      0.52       624\n",
      "weighted avg       0.55      0.54      0.54       624\n",
      "\n"
     ]
    }
   ],
   "source": [
    "# CHECKING THE CONFUSION MATRIX\n",
    "\n",
    "Y_pred = model.predict_generator(test_data)\n",
    "y_pred = np.argmax(Y_pred ,axis =1)\n",
    "print('Confusion Matrix')\n",
    "confusion_matrix = confusion_matrix(test_data.classes, y_pred)\n",
    "print(confusion_matrix)\n",
    "print('Classification Report')\n",
    "target_names = ['NORMAL','PNEUMONIA']\n",
    "print(classification_report(test_data.classes, y_pred, target_names=target_names))"
   ]
  },
  {
   "cell_type": "code",
   "execution_count": null,
   "metadata": {
    "id": "9J4pgkNC5TDd"
   },
   "outputs": [],
   "source": [
    "# SAVING OUR MODEL\n",
    "\n",
    "model.save('model_pneumonia_detection.h5')"
   ]
  },
  {
   "cell_type": "code",
   "execution_count": null,
   "metadata": {
    "id": "NPKmVvft-DEm"
   },
   "outputs": [],
   "source": [
    "from tensorflow.keras.models import load_model\n",
    "from tensorflow.keras.preprocessing import image\n",
    "from tensorflow.keras.applications.vgg19 import preprocess_input"
   ]
  },
  {
   "cell_type": "code",
   "execution_count": null,
   "metadata": {
    "id": "6qk_kMd8-1BE"
   },
   "outputs": [],
   "source": [
    "# LOADING OUR MODEL JUST TO CHECK THE PREDICTION\n",
    "\n",
    "model_pneumo = load_model('model_pneumonia_detection.h5')"
   ]
  },
  {
   "cell_type": "code",
   "execution_count": null,
   "metadata": {
    "id": "Ji8XxK9V-_-N"
   },
   "outputs": [],
   "source": [
    "# PREDICTING A RANDOM IMAGE WHICH WE HAVE PICKED FROM THE VALIDATION DATASET\n",
    "img1 = image.load_img('/content/chest_xray/val/PNEUMONIA/person1946_bacteria_4875.jpeg',target_size = (224,224))\n",
    "x = image.img_to_array(img1)\n",
    "x = np.expand_dims(x, axis = 0)\n",
    "img1_check = preprocess_input(x)"
   ]
  },
  {
   "cell_type": "code",
   "execution_count": null,
   "metadata": {
    "id": "AuxXs4OQ_nv4"
   },
   "outputs": [],
   "source": [
    "\n",
    "classes = model.predict(img1_check)"
   ]
  },
  {
   "cell_type": "code",
   "execution_count": null,
   "metadata": {
    "id": "1JoAn6_c_wkB"
   },
   "outputs": [],
   "source": [
    "\n",
    "img2 = image.load_img('/content/chest_xray/val/NORMAL/NORMAL2-IM-1427-0001.jpeg',target_size = (224,224))\n",
    "x = image.img_to_array(img2)\n",
    "x = np.expand_dims(x, axis = 0)\n",
    "img2_check = preprocess_input(x)"
   ]
  },
  {
   "cell_type": "code",
   "execution_count": null,
   "metadata": {
    "id": "kPeiVew7_6d4"
   },
   "outputs": [],
   "source": [
    "classes = model.predict(img2_check)"
   ]
  },
  {
   "cell_type": "code",
   "execution_count": null,
   "metadata": {
    "colab": {
     "base_uri": "https://localhost:8080/"
    },
    "id": "WiHLt5N8_-BP",
    "outputId": "d07f20ea-b0f6-4dd5-bb79-6858549e7183"
   },
   "outputs": [
    {
     "name": "stdout",
     "output_type": "stream",
     "text": [
      "[[1.0000000e+00 1.7034447e-10]]\n"
     ]
    }
   ],
   "source": [
    "print(classes)"
   ]
  },
  {
   "cell_type": "markdown",
   "metadata": {
    "id": "2EFwKN-J4i0Z"
   },
   "source": [
    "# DEPLOYING OUR MODEL USING STREAMLIT AND PYNGROK "
   ]
  },
  {
   "cell_type": "code",
   "execution_count": null,
   "metadata": {
    "colab": {
     "base_uri": "https://localhost:8080/",
     "height": 1000
    },
    "id": "h3hdfPlly6Rx",
    "outputId": "35511ab9-2ef7-4411-ab8f-d7ee6192daf1"
   },
   "outputs": [
    {
     "name": "stdout",
     "output_type": "stream",
     "text": [
      "Collecting streamlit\n",
      "\u001b[?25l  Downloading https://files.pythonhosted.org/packages/d7/0c/469ee9160ad7bc064eb498fa95aefd4e96b593ce0d53fb07ff217badff47/streamlit-0.83.0-py2.py3-none-any.whl (7.7MB)\n",
      "\u001b[K     |████████████████████████████████| 7.8MB 19.7MB/s \n",
      "\u001b[?25hRequirement already satisfied: protobuf!=3.11,>=3.6.0 in /usr/local/lib/python3.7/dist-packages (from streamlit) (3.12.4)\n",
      "Requirement already satisfied: pyarrow; python_version < \"3.9\" in /usr/local/lib/python3.7/dist-packages (from streamlit) (3.0.0)\n",
      "Requirement already satisfied: tornado>=5.0 in /usr/local/lib/python3.7/dist-packages (from streamlit) (5.1.1)\n",
      "Requirement already satisfied: pillow>=6.2.0 in /usr/local/lib/python3.7/dist-packages (from streamlit) (7.1.2)\n",
      "Requirement already satisfied: cachetools>=4.0 in /usr/local/lib/python3.7/dist-packages (from streamlit) (4.2.2)\n",
      "Collecting watchdog; platform_system != \"Darwin\"\n",
      "\u001b[?25l  Downloading https://files.pythonhosted.org/packages/f2/5b/36b3b11e557830de6fc1dc06e9aa3ee274119b8cea9cc98175dbbf72cf87/watchdog-2.1.2-py3-none-manylinux2014_x86_64.whl (74kB)\n",
      "\u001b[K     |████████████████████████████████| 81kB 5.8MB/s \n",
      "\u001b[?25hCollecting base58\n",
      "  Downloading https://files.pythonhosted.org/packages/b8/a1/d9f565e9910c09fd325dc638765e8843a19fa696275c16cc08cf3b0a3c25/base58-2.1.0-py3-none-any.whl\n",
      "Requirement already satisfied: numpy in /usr/local/lib/python3.7/dist-packages (from streamlit) (1.19.5)\n",
      "Requirement already satisfied: click<8.0,>=7.0 in /usr/local/lib/python3.7/dist-packages (from streamlit) (7.1.2)\n",
      "Requirement already satisfied: pandas>=0.21.0 in /usr/local/lib/python3.7/dist-packages (from streamlit) (1.1.5)\n",
      "Requirement already satisfied: packaging in /usr/local/lib/python3.7/dist-packages (from streamlit) (20.9)\n",
      "Collecting gitpython\n",
      "\u001b[?25l  Downloading https://files.pythonhosted.org/packages/bc/91/b38c4fabb6e5092ab23492ded4f318ab7299b19263272b703478038c0fbc/GitPython-3.1.18-py3-none-any.whl (170kB)\n",
      "\u001b[K     |████████████████████████████████| 174kB 37.3MB/s \n",
      "\u001b[?25hCollecting pydeck>=0.1.dev5\n",
      "\u001b[?25l  Downloading https://files.pythonhosted.org/packages/d6/bc/f0e44828e4290367c869591d50d3671a4d0ee94926da6cb734b7b200308c/pydeck-0.6.2-py2.py3-none-any.whl (4.2MB)\n",
      "\u001b[K     |████████████████████████████████| 4.2MB 27.9MB/s \n",
      "\u001b[?25hRequirement already satisfied: astor in /usr/local/lib/python3.7/dist-packages (from streamlit) (0.8.1)\n",
      "Requirement already satisfied: altair>=3.2.0 in /usr/local/lib/python3.7/dist-packages (from streamlit) (4.1.0)\n",
      "Collecting blinker\n",
      "\u001b[?25l  Downloading https://files.pythonhosted.org/packages/1b/51/e2a9f3b757eb802f61dc1f2b09c8c99f6eb01cf06416c0671253536517b6/blinker-1.4.tar.gz (111kB)\n",
      "\u001b[K     |████████████████████████████████| 112kB 38.6MB/s \n",
      "\u001b[?25hRequirement already satisfied: requests in /usr/local/lib/python3.7/dist-packages (from streamlit) (2.23.0)\n",
      "Requirement already satisfied: tzlocal in /usr/local/lib/python3.7/dist-packages (from streamlit) (1.5.1)\n",
      "Collecting validators\n",
      "  Downloading https://files.pythonhosted.org/packages/db/2f/7fed3ee94ad665ad2c1de87f858f10a7785251ff75b4fd47987888d07ef1/validators-0.18.2-py3-none-any.whl\n",
      "Requirement already satisfied: toml in /usr/local/lib/python3.7/dist-packages (from streamlit) (0.10.2)\n",
      "Requirement already satisfied: python-dateutil in /usr/local/lib/python3.7/dist-packages (from streamlit) (2.8.1)\n",
      "Requirement already satisfied: six>=1.9 in /usr/local/lib/python3.7/dist-packages (from protobuf!=3.11,>=3.6.0->streamlit) (1.15.0)\n",
      "Requirement already satisfied: setuptools in /usr/local/lib/python3.7/dist-packages (from protobuf!=3.11,>=3.6.0->streamlit) (57.0.0)\n",
      "Requirement already satisfied: pytz>=2017.2 in /usr/local/lib/python3.7/dist-packages (from pandas>=0.21.0->streamlit) (2018.9)\n",
      "Requirement already satisfied: pyparsing>=2.0.2 in /usr/local/lib/python3.7/dist-packages (from packaging->streamlit) (2.4.7)\n",
      "Collecting gitdb<5,>=4.0.1\n",
      "\u001b[?25l  Downloading https://files.pythonhosted.org/packages/ea/e8/f414d1a4f0bbc668ed441f74f44c116d9816833a48bf81d22b697090dba8/gitdb-4.0.7-py3-none-any.whl (63kB)\n",
      "\u001b[K     |████████████████████████████████| 71kB 5.1MB/s \n",
      "\u001b[?25hRequirement already satisfied: typing-extensions>=3.7.4.0; python_version < \"3.8\" in /usr/local/lib/python3.7/dist-packages (from gitpython->streamlit) (3.7.4.3)\n",
      "Requirement already satisfied: jinja2>=2.10.1 in /usr/local/lib/python3.7/dist-packages (from pydeck>=0.1.dev5->streamlit) (2.11.3)\n",
      "Requirement already satisfied: ipywidgets>=7.0.0 in /usr/local/lib/python3.7/dist-packages (from pydeck>=0.1.dev5->streamlit) (7.6.3)\n",
      "Collecting ipykernel>=5.1.2; python_version >= \"3.4\"\n",
      "\u001b[?25l  Downloading https://files.pythonhosted.org/packages/90/6d/6c8fe4b658f77947d4244ce81f60230c4c8d1dc1a21ae83e63b269339178/ipykernel-5.5.5-py3-none-any.whl (120kB)\n",
      "\u001b[K     |████████████████████████████████| 122kB 38.2MB/s \n",
      "\u001b[?25hRequirement already satisfied: traitlets>=4.3.2 in /usr/local/lib/python3.7/dist-packages (from pydeck>=0.1.dev5->streamlit) (5.0.5)\n",
      "Requirement already satisfied: toolz in /usr/local/lib/python3.7/dist-packages (from altair>=3.2.0->streamlit) (0.11.1)\n",
      "Requirement already satisfied: jsonschema in /usr/local/lib/python3.7/dist-packages (from altair>=3.2.0->streamlit) (2.6.0)\n",
      "Requirement already satisfied: entrypoints in /usr/local/lib/python3.7/dist-packages (from altair>=3.2.0->streamlit) (0.3)\n",
      "Requirement already satisfied: urllib3!=1.25.0,!=1.25.1,<1.26,>=1.21.1 in /usr/local/lib/python3.7/dist-packages (from requests->streamlit) (1.24.3)\n",
      "Requirement already satisfied: certifi>=2017.4.17 in /usr/local/lib/python3.7/dist-packages (from requests->streamlit) (2021.5.30)\n",
      "Requirement already satisfied: chardet<4,>=3.0.2 in /usr/local/lib/python3.7/dist-packages (from requests->streamlit) (3.0.4)\n",
      "Requirement already satisfied: idna<3,>=2.5 in /usr/local/lib/python3.7/dist-packages (from requests->streamlit) (2.10)\n",
      "Requirement already satisfied: decorator>=3.4.0 in /usr/local/lib/python3.7/dist-packages (from validators->streamlit) (4.4.2)\n",
      "Collecting smmap<5,>=3.0.1\n",
      "  Downloading https://files.pythonhosted.org/packages/68/ee/d540eb5e5996eb81c26ceffac6ee49041d473bc5125f2aa995cf51ec1cf1/smmap-4.0.0-py2.py3-none-any.whl\n",
      "Requirement already satisfied: MarkupSafe>=0.23 in /usr/local/lib/python3.7/dist-packages (from jinja2>=2.10.1->pydeck>=0.1.dev5->streamlit) (2.0.1)\n",
      "Requirement already satisfied: ipython>=4.0.0; python_version >= \"3.3\" in /usr/local/lib/python3.7/dist-packages (from ipywidgets>=7.0.0->pydeck>=0.1.dev5->streamlit) (5.5.0)\n",
      "Requirement already satisfied: nbformat>=4.2.0 in /usr/local/lib/python3.7/dist-packages (from ipywidgets>=7.0.0->pydeck>=0.1.dev5->streamlit) (5.1.3)\n",
      "Requirement already satisfied: jupyterlab-widgets>=1.0.0; python_version >= \"3.6\" in /usr/local/lib/python3.7/dist-packages (from ipywidgets>=7.0.0->pydeck>=0.1.dev5->streamlit) (1.0.0)\n",
      "Requirement already satisfied: widgetsnbextension~=3.5.0 in /usr/local/lib/python3.7/dist-packages (from ipywidgets>=7.0.0->pydeck>=0.1.dev5->streamlit) (3.5.1)\n",
      "Requirement already satisfied: jupyter-client in /usr/local/lib/python3.7/dist-packages (from ipykernel>=5.1.2; python_version >= \"3.4\"->pydeck>=0.1.dev5->streamlit) (5.3.5)\n",
      "Requirement already satisfied: ipython-genutils in /usr/local/lib/python3.7/dist-packages (from traitlets>=4.3.2->pydeck>=0.1.dev5->streamlit) (0.2.0)\n",
      "Requirement already satisfied: pexpect; sys_platform != \"win32\" in /usr/local/lib/python3.7/dist-packages (from ipython>=4.0.0; python_version >= \"3.3\"->ipywidgets>=7.0.0->pydeck>=0.1.dev5->streamlit) (4.8.0)\n",
      "Requirement already satisfied: simplegeneric>0.8 in /usr/local/lib/python3.7/dist-packages (from ipython>=4.0.0; python_version >= \"3.3\"->ipywidgets>=7.0.0->pydeck>=0.1.dev5->streamlit) (0.8.1)\n",
      "Requirement already satisfied: pickleshare in /usr/local/lib/python3.7/dist-packages (from ipython>=4.0.0; python_version >= \"3.3\"->ipywidgets>=7.0.0->pydeck>=0.1.dev5->streamlit) (0.7.5)\n",
      "Requirement already satisfied: prompt-toolkit<2.0.0,>=1.0.4 in /usr/local/lib/python3.7/dist-packages (from ipython>=4.0.0; python_version >= \"3.3\"->ipywidgets>=7.0.0->pydeck>=0.1.dev5->streamlit) (1.0.18)\n",
      "Requirement already satisfied: pygments in /usr/local/lib/python3.7/dist-packages (from ipython>=4.0.0; python_version >= \"3.3\"->ipywidgets>=7.0.0->pydeck>=0.1.dev5->streamlit) (2.6.1)\n",
      "Requirement already satisfied: jupyter-core in /usr/local/lib/python3.7/dist-packages (from nbformat>=4.2.0->ipywidgets>=7.0.0->pydeck>=0.1.dev5->streamlit) (4.7.1)\n",
      "Requirement already satisfied: notebook>=4.4.1 in /usr/local/lib/python3.7/dist-packages (from widgetsnbextension~=3.5.0->ipywidgets>=7.0.0->pydeck>=0.1.dev5->streamlit) (5.3.1)\n",
      "Requirement already satisfied: pyzmq>=13 in /usr/local/lib/python3.7/dist-packages (from jupyter-client->ipykernel>=5.1.2; python_version >= \"3.4\"->pydeck>=0.1.dev5->streamlit) (22.1.0)\n",
      "Requirement already satisfied: ptyprocess>=0.5 in /usr/local/lib/python3.7/dist-packages (from pexpect; sys_platform != \"win32\"->ipython>=4.0.0; python_version >= \"3.3\"->ipywidgets>=7.0.0->pydeck>=0.1.dev5->streamlit) (0.7.0)\n",
      "Requirement already satisfied: wcwidth in /usr/local/lib/python3.7/dist-packages (from prompt-toolkit<2.0.0,>=1.0.4->ipython>=4.0.0; python_version >= \"3.3\"->ipywidgets>=7.0.0->pydeck>=0.1.dev5->streamlit) (0.2.5)\n",
      "Requirement already satisfied: terminado>=0.8.1 in /usr/local/lib/python3.7/dist-packages (from notebook>=4.4.1->widgetsnbextension~=3.5.0->ipywidgets>=7.0.0->pydeck>=0.1.dev5->streamlit) (0.10.1)\n",
      "Requirement already satisfied: Send2Trash in /usr/local/lib/python3.7/dist-packages (from notebook>=4.4.1->widgetsnbextension~=3.5.0->ipywidgets>=7.0.0->pydeck>=0.1.dev5->streamlit) (1.5.0)\n",
      "Requirement already satisfied: nbconvert in /usr/local/lib/python3.7/dist-packages (from notebook>=4.4.1->widgetsnbextension~=3.5.0->ipywidgets>=7.0.0->pydeck>=0.1.dev5->streamlit) (5.6.1)\n",
      "Requirement already satisfied: bleach in /usr/local/lib/python3.7/dist-packages (from nbconvert->notebook>=4.4.1->widgetsnbextension~=3.5.0->ipywidgets>=7.0.0->pydeck>=0.1.dev5->streamlit) (3.3.0)\n",
      "Requirement already satisfied: pandocfilters>=1.4.1 in /usr/local/lib/python3.7/dist-packages (from nbconvert->notebook>=4.4.1->widgetsnbextension~=3.5.0->ipywidgets>=7.0.0->pydeck>=0.1.dev5->streamlit) (1.4.3)\n",
      "Requirement already satisfied: mistune<2,>=0.8.1 in /usr/local/lib/python3.7/dist-packages (from nbconvert->notebook>=4.4.1->widgetsnbextension~=3.5.0->ipywidgets>=7.0.0->pydeck>=0.1.dev5->streamlit) (0.8.4)\n",
      "Requirement already satisfied: testpath in /usr/local/lib/python3.7/dist-packages (from nbconvert->notebook>=4.4.1->widgetsnbextension~=3.5.0->ipywidgets>=7.0.0->pydeck>=0.1.dev5->streamlit) (0.5.0)\n",
      "Requirement already satisfied: defusedxml in /usr/local/lib/python3.7/dist-packages (from nbconvert->notebook>=4.4.1->widgetsnbextension~=3.5.0->ipywidgets>=7.0.0->pydeck>=0.1.dev5->streamlit) (0.7.1)\n",
      "Requirement already satisfied: webencodings in /usr/local/lib/python3.7/dist-packages (from bleach->nbconvert->notebook>=4.4.1->widgetsnbextension~=3.5.0->ipywidgets>=7.0.0->pydeck>=0.1.dev5->streamlit) (0.5.1)\n",
      "Building wheels for collected packages: blinker\n",
      "  Building wheel for blinker (setup.py) ... \u001b[?25l\u001b[?25hdone\n",
      "  Created wheel for blinker: filename=blinker-1.4-cp37-none-any.whl size=13476 sha256=cef407be8b836c75087dc9694f8f2982337fe835ca470bd8acc88cc30643d663\n",
      "  Stored in directory: /root/.cache/pip/wheels/92/a0/00/8690a57883956a301d91cf4ec999cc0b258b01e3f548f86e89\n",
      "Successfully built blinker\n",
      "\u001b[31mERROR: google-colab 1.0.0 has requirement ipykernel~=4.10, but you'll have ipykernel 5.5.5 which is incompatible.\u001b[0m\n",
      "Installing collected packages: watchdog, base58, smmap, gitdb, gitpython, ipykernel, pydeck, blinker, validators, streamlit\n",
      "  Found existing installation: ipykernel 4.10.1\n",
      "    Uninstalling ipykernel-4.10.1:\n",
      "      Successfully uninstalled ipykernel-4.10.1\n",
      "Successfully installed base58-2.1.0 blinker-1.4 gitdb-4.0.7 gitpython-3.1.18 ipykernel-5.5.5 pydeck-0.6.2 smmap-4.0.0 streamlit-0.83.0 validators-0.18.2 watchdog-2.1.2\n"
     ]
    },
    {
     "data": {
      "application/vnd.colab-display-data+json": {
       "pip_warning": {
        "packages": [
         "ipykernel"
        ]
       }
      }
     },
     "metadata": {
      "tags": []
     },
     "output_type": "display_data"
    }
   ],
   "source": [
    "# INSTALLING THE STREAMLIT\n",
    "!pip install streamlit"
   ]
  },
  {
   "cell_type": "code",
   "execution_count": null,
   "metadata": {
    "colab": {
     "base_uri": "https://localhost:8080/"
    },
    "id": "Xw7Xa-KksB7N",
    "outputId": "30af33db-6be9-4f79-860c-7bf60747f238"
   },
   "outputs": [
    {
     "name": "stdout",
     "output_type": "stream",
     "text": [
      "Collecting pyngrok\n",
      "\u001b[?25l  Downloading https://files.pythonhosted.org/packages/6b/4e/a2fe095bbe17cf26424c4abcd22a0490e22d01cc628f25af5e220ddbf6f0/pyngrok-5.0.5.tar.gz (745kB)\n",
      "\r",
      "\u001b[K     |▍                               | 10kB 23.6MB/s eta 0:00:01\r",
      "\u001b[K     |▉                               | 20kB 31.3MB/s eta 0:00:01\r",
      "\u001b[K     |█▎                              | 30kB 33.3MB/s eta 0:00:01\r",
      "\u001b[K     |█▊                              | 40kB 33.9MB/s eta 0:00:01\r",
      "\u001b[K     |██▏                             | 51kB 35.8MB/s eta 0:00:01\r",
      "\u001b[K     |██▋                             | 61kB 36.6MB/s eta 0:00:01\r",
      "\u001b[K     |███                             | 71kB 35.0MB/s eta 0:00:01\r",
      "\u001b[K     |███▌                            | 81kB 34.5MB/s eta 0:00:01\r",
      "\u001b[K     |████                            | 92kB 35.4MB/s eta 0:00:01\r",
      "\u001b[K     |████▍                           | 102kB 35.5MB/s eta 0:00:01\r",
      "\u001b[K     |████▉                           | 112kB 35.5MB/s eta 0:00:01\r",
      "\u001b[K     |█████▎                          | 122kB 35.5MB/s eta 0:00:01\r",
      "\u001b[K     |█████▊                          | 133kB 35.5MB/s eta 0:00:01\r",
      "\u001b[K     |██████▏                         | 143kB 35.5MB/s eta 0:00:01\r",
      "\u001b[K     |██████▋                         | 153kB 35.5MB/s eta 0:00:01\r",
      "\u001b[K     |███████                         | 163kB 35.5MB/s eta 0:00:01\r",
      "\u001b[K     |███████▌                        | 174kB 35.5MB/s eta 0:00:01\r",
      "\u001b[K     |████████                        | 184kB 35.5MB/s eta 0:00:01\r",
      "\u001b[K     |████████▍                       | 194kB 35.5MB/s eta 0:00:01\r",
      "\u001b[K     |████████▉                       | 204kB 35.5MB/s eta 0:00:01\r",
      "\u001b[K     |█████████▎                      | 215kB 35.5MB/s eta 0:00:01\r",
      "\u001b[K     |█████████▊                      | 225kB 35.5MB/s eta 0:00:01\r",
      "\u001b[K     |██████████▏                     | 235kB 35.5MB/s eta 0:00:01\r",
      "\u001b[K     |██████████▌                     | 245kB 35.5MB/s eta 0:00:01\r",
      "\u001b[K     |███████████                     | 256kB 35.5MB/s eta 0:00:01\r",
      "\u001b[K     |███████████▍                    | 266kB 35.5MB/s eta 0:00:01\r",
      "\u001b[K     |███████████▉                    | 276kB 35.5MB/s eta 0:00:01\r",
      "\u001b[K     |████████████▎                   | 286kB 35.5MB/s eta 0:00:01\r",
      "\u001b[K     |████████████▊                   | 296kB 35.5MB/s eta 0:00:01\r",
      "\u001b[K     |█████████████▏                  | 307kB 35.5MB/s eta 0:00:01\r",
      "\u001b[K     |█████████████▋                  | 317kB 35.5MB/s eta 0:00:01\r",
      "\u001b[K     |██████████████                  | 327kB 35.5MB/s eta 0:00:01\r",
      "\u001b[K     |██████████████▌                 | 337kB 35.5MB/s eta 0:00:01\r",
      "\u001b[K     |███████████████                 | 348kB 35.5MB/s eta 0:00:01\r",
      "\u001b[K     |███████████████▍                | 358kB 35.5MB/s eta 0:00:01\r",
      "\u001b[K     |███████████████▉                | 368kB 35.5MB/s eta 0:00:01\r",
      "\u001b[K     |████████████████▎               | 378kB 35.5MB/s eta 0:00:01\r",
      "\u001b[K     |████████████████▊               | 389kB 35.5MB/s eta 0:00:01\r",
      "\u001b[K     |█████████████████▏              | 399kB 35.5MB/s eta 0:00:01\r",
      "\u001b[K     |█████████████████▋              | 409kB 35.5MB/s eta 0:00:01\r",
      "\u001b[K     |██████████████████              | 419kB 35.5MB/s eta 0:00:01\r",
      "\u001b[K     |██████████████████▌             | 430kB 35.5MB/s eta 0:00:01\r",
      "\u001b[K     |███████████████████             | 440kB 35.5MB/s eta 0:00:01\r",
      "\u001b[K     |███████████████████▍            | 450kB 35.5MB/s eta 0:00:01\r",
      "\u001b[K     |███████████████████▉            | 460kB 35.5MB/s eta 0:00:01\r",
      "\u001b[K     |████████████████████▎           | 471kB 35.5MB/s eta 0:00:01\r",
      "\u001b[K     |████████████████████▊           | 481kB 35.5MB/s eta 0:00:01\r",
      "\u001b[K     |█████████████████████           | 491kB 35.5MB/s eta 0:00:01\r",
      "\u001b[K     |█████████████████████▌          | 501kB 35.5MB/s eta 0:00:01\r",
      "\u001b[K     |██████████████████████          | 512kB 35.5MB/s eta 0:00:01\r",
      "\u001b[K     |██████████████████████▍         | 522kB 35.5MB/s eta 0:00:01\r",
      "\u001b[K     |██████████████████████▉         | 532kB 35.5MB/s eta 0:00:01\r",
      "\u001b[K     |███████████████████████▎        | 542kB 35.5MB/s eta 0:00:01\r",
      "\u001b[K     |███████████████████████▊        | 552kB 35.5MB/s eta 0:00:01\r",
      "\u001b[K     |████████████████████████▏       | 563kB 35.5MB/s eta 0:00:01\r",
      "\u001b[K     |████████████████████████▋       | 573kB 35.5MB/s eta 0:00:01\r",
      "\u001b[K     |█████████████████████████       | 583kB 35.5MB/s eta 0:00:01\r",
      "\u001b[K     |█████████████████████████▌      | 593kB 35.5MB/s eta 0:00:01\r",
      "\u001b[K     |██████████████████████████      | 604kB 35.5MB/s eta 0:00:01\r",
      "\u001b[K     |██████████████████████████▍     | 614kB 35.5MB/s eta 0:00:01\r",
      "\u001b[K     |██████████████████████████▉     | 624kB 35.5MB/s eta 0:00:01\r",
      "\u001b[K     |███████████████████████████▎    | 634kB 35.5MB/s eta 0:00:01\r",
      "\u001b[K     |███████████████████████████▊    | 645kB 35.5MB/s eta 0:00:01\r",
      "\u001b[K     |████████████████████████████▏   | 655kB 35.5MB/s eta 0:00:01\r",
      "\u001b[K     |████████████████████████████▋   | 665kB 35.5MB/s eta 0:00:01\r",
      "\u001b[K     |█████████████████████████████   | 675kB 35.5MB/s eta 0:00:01\r",
      "\u001b[K     |█████████████████████████████▌  | 686kB 35.5MB/s eta 0:00:01\r",
      "\u001b[K     |██████████████████████████████  | 696kB 35.5MB/s eta 0:00:01\r",
      "\u001b[K     |██████████████████████████████▍ | 706kB 35.5MB/s eta 0:00:01\r",
      "\u001b[K     |██████████████████████████████▉ | 716kB 35.5MB/s eta 0:00:01\r",
      "\u001b[K     |███████████████████████████████▏| 727kB 35.5MB/s eta 0:00:01\r",
      "\u001b[K     |███████████████████████████████▋| 737kB 35.5MB/s eta 0:00:01\r",
      "\u001b[K     |████████████████████████████████| 747kB 35.5MB/s \n",
      "\u001b[?25hRequirement already satisfied: PyYAML in /usr/local/lib/python3.7/dist-packages (from pyngrok) (3.13)\n",
      "Building wheels for collected packages: pyngrok\n",
      "  Building wheel for pyngrok (setup.py) ... \u001b[?25l\u001b[?25hdone\n",
      "  Created wheel for pyngrok: filename=pyngrok-5.0.5-cp37-none-any.whl size=19262 sha256=0abc7b89b6d7fefd9b41ac34d06a9ed0c513bfb74b2bff4327a0d2e52d285835\n",
      "  Stored in directory: /root/.cache/pip/wheels/0c/13/64/5ebbcc22eaf53fdf5766b397c1fb17c83f5775fdccf0ea1b88\n",
      "Successfully built pyngrok\n",
      "Installing collected packages: pyngrok\n",
      "Successfully installed pyngrok-5.0.5\n"
     ]
    }
   ],
   "source": [
    "# INSTALLING PYNGROK MODULE\n",
    "!pip install pyngrok"
   ]
  },
  {
   "cell_type": "code",
   "execution_count": null,
   "metadata": {
    "id": "815lhQH9qCl0"
   },
   "outputs": [],
   "source": [
    "# CREATING A NGROK FOLDER IN OUR DRIVE WHERE WE CAN STORE OUR NOHUP DATA\n",
    "!mount --bind /content/drive/MyDrive /drive\n",
    "!mkdir -p /drive/ngrok-ssh\n",
    "!mkdir -p ~/.ssh"
   ]
  },
  {
   "cell_type": "code",
   "execution_count": null,
   "metadata": {
    "colab": {
     "base_uri": "https://localhost:8080/"
    },
    "id": "aZepdBvErRAg",
    "outputId": "ad186b0c-9316-4938-cbe3-62376dd6d6cb"
   },
   "outputs": [
    {
     "name": "stdout",
     "output_type": "stream",
     "text": [
      "Reading package lists... Done\n",
      "Building dependency tree       \n",
      "Reading state information... Done\n",
      "tmux is already the newest version (2.6-3ubuntu0.2).\n",
      "The following additional packages will be installed:\n",
      "  libgpm2 ncurses-term openssh-server openssh-sftp-server python3-certifi\n",
      "  python3-chardet python3-idna python3-pkg-resources python3-requests\n",
      "  python3-six python3-urllib3 ssh-import-id vim-common vim-runtime xxd\n",
      "Suggested packages:\n",
      "  gpm molly-guard monkeysphere rssh ssh-askpass ufw python3-setuptools\n",
      "  python3-cryptography python3-openssl python3-socks ctags vim-doc vim-scripts\n",
      "The following NEW packages will be installed:\n",
      "  libgpm2 ncurses-term openssh-server openssh-sftp-server python3-certifi\n",
      "  python3-chardet python3-idna python3-pkg-resources python3-requests\n",
      "  python3-six python3-urllib3 ssh ssh-import-id vim vim-common vim-runtime xxd\n",
      "0 upgraded, 17 newly installed, 0 to remove and 39 not upgraded.\n",
      "Need to get 7,876 kB of archives.\n",
      "After this operation, 40.3 MB of additional disk space will be used.\n",
      "Get:1 http://archive.ubuntu.com/ubuntu bionic-updates/main amd64 openssh-sftp-server amd64 1:7.6p1-4ubuntu0.3 [45.6 kB]\n",
      "Get:2 http://archive.ubuntu.com/ubuntu bionic-updates/main amd64 openssh-server amd64 1:7.6p1-4ubuntu0.3 [333 kB]\n",
      "Get:3 http://archive.ubuntu.com/ubuntu bionic-updates/main amd64 ssh all 1:7.6p1-4ubuntu0.3 [5,204 B]\n",
      "Get:4 http://archive.ubuntu.com/ubuntu bionic-updates/main amd64 xxd amd64 2:8.0.1453-1ubuntu1.4 [49.3 kB]\n",
      "Get:5 http://archive.ubuntu.com/ubuntu bionic-updates/main amd64 vim-common all 2:8.0.1453-1ubuntu1.4 [70.4 kB]\n",
      "Get:6 http://archive.ubuntu.com/ubuntu bionic/main amd64 libgpm2 amd64 1.20.7-5 [15.1 kB]\n",
      "Get:7 http://archive.ubuntu.com/ubuntu bionic-updates/main amd64 ncurses-term all 6.1-1ubuntu1.18.04 [248 kB]\n",
      "Get:8 http://archive.ubuntu.com/ubuntu bionic/main amd64 python3-certifi all 2018.1.18-2 [144 kB]\n",
      "Get:9 http://archive.ubuntu.com/ubuntu bionic/main amd64 python3-pkg-resources all 39.0.1-2 [98.8 kB]\n",
      "Get:10 http://archive.ubuntu.com/ubuntu bionic/main amd64 python3-chardet all 3.0.4-1 [80.3 kB]\n",
      "Get:11 http://archive.ubuntu.com/ubuntu bionic/main amd64 python3-idna all 2.6-1 [32.5 kB]\n",
      "Get:12 http://archive.ubuntu.com/ubuntu bionic/main amd64 python3-six all 1.11.0-2 [11.4 kB]\n",
      "Get:13 http://archive.ubuntu.com/ubuntu bionic-updates/main amd64 python3-urllib3 all 1.22-1ubuntu0.18.04.2 [86.2 kB]\n",
      "Get:14 http://archive.ubuntu.com/ubuntu bionic-updates/main amd64 python3-requests all 2.18.4-2ubuntu0.1 [58.3 kB]\n",
      "Get:15 http://archive.ubuntu.com/ubuntu bionic-updates/main amd64 vim-runtime all 2:8.0.1453-1ubuntu1.4 [5,435 kB]\n",
      "Get:16 http://archive.ubuntu.com/ubuntu bionic-updates/main amd64 vim amd64 2:8.0.1453-1ubuntu1.4 [1,152 kB]\n",
      "Get:17 http://archive.ubuntu.com/ubuntu bionic-updates/main amd64 ssh-import-id all 5.7-0ubuntu1.1 [10.9 kB]\n",
      "Fetched 7,876 kB in 1s (7,771 kB/s)\n",
      "Preconfiguring packages ...\n",
      "Selecting previously unselected package openssh-sftp-server.\n",
      "(Reading database ... 160772 files and directories currently installed.)\n",
      "Preparing to unpack .../00-openssh-sftp-server_1%3a7.6p1-4ubuntu0.3_amd64.deb ...\n",
      "Unpacking openssh-sftp-server (1:7.6p1-4ubuntu0.3) ...\n",
      "Selecting previously unselected package openssh-server.\n",
      "Preparing to unpack .../01-openssh-server_1%3a7.6p1-4ubuntu0.3_amd64.deb ...\n",
      "Unpacking openssh-server (1:7.6p1-4ubuntu0.3) ...\n",
      "Selecting previously unselected package ssh.\n",
      "Preparing to unpack .../02-ssh_1%3a7.6p1-4ubuntu0.3_all.deb ...\n",
      "Unpacking ssh (1:7.6p1-4ubuntu0.3) ...\n",
      "Selecting previously unselected package xxd.\n",
      "Preparing to unpack .../03-xxd_2%3a8.0.1453-1ubuntu1.4_amd64.deb ...\n",
      "Unpacking xxd (2:8.0.1453-1ubuntu1.4) ...\n",
      "Selecting previously unselected package vim-common.\n",
      "Preparing to unpack .../04-vim-common_2%3a8.0.1453-1ubuntu1.4_all.deb ...\n",
      "Unpacking vim-common (2:8.0.1453-1ubuntu1.4) ...\n",
      "Selecting previously unselected package libgpm2:amd64.\n",
      "Preparing to unpack .../05-libgpm2_1.20.7-5_amd64.deb ...\n",
      "Unpacking libgpm2:amd64 (1.20.7-5) ...\n",
      "Selecting previously unselected package ncurses-term.\n",
      "Preparing to unpack .../06-ncurses-term_6.1-1ubuntu1.18.04_all.deb ...\n",
      "Unpacking ncurses-term (6.1-1ubuntu1.18.04) ...\n",
      "Selecting previously unselected package python3-certifi.\n",
      "Preparing to unpack .../07-python3-certifi_2018.1.18-2_all.deb ...\n",
      "Unpacking python3-certifi (2018.1.18-2) ...\n",
      "Selecting previously unselected package python3-pkg-resources.\n",
      "Preparing to unpack .../08-python3-pkg-resources_39.0.1-2_all.deb ...\n",
      "Unpacking python3-pkg-resources (39.0.1-2) ...\n",
      "Selecting previously unselected package python3-chardet.\n",
      "Preparing to unpack .../09-python3-chardet_3.0.4-1_all.deb ...\n",
      "Unpacking python3-chardet (3.0.4-1) ...\n",
      "Selecting previously unselected package python3-idna.\n",
      "Preparing to unpack .../10-python3-idna_2.6-1_all.deb ...\n",
      "Unpacking python3-idna (2.6-1) ...\n",
      "Selecting previously unselected package python3-six.\n",
      "Preparing to unpack .../11-python3-six_1.11.0-2_all.deb ...\n",
      "Unpacking python3-six (1.11.0-2) ...\n",
      "Selecting previously unselected package python3-urllib3.\n",
      "Preparing to unpack .../12-python3-urllib3_1.22-1ubuntu0.18.04.2_all.deb ...\n",
      "Unpacking python3-urllib3 (1.22-1ubuntu0.18.04.2) ...\n",
      "Selecting previously unselected package python3-requests.\n",
      "Preparing to unpack .../13-python3-requests_2.18.4-2ubuntu0.1_all.deb ...\n",
      "Unpacking python3-requests (2.18.4-2ubuntu0.1) ...\n",
      "Selecting previously unselected package vim-runtime.\n",
      "Preparing to unpack .../14-vim-runtime_2%3a8.0.1453-1ubuntu1.4_all.deb ...\n",
      "Adding 'diversion of /usr/share/vim/vim80/doc/help.txt to /usr/share/vim/vim80/doc/help.txt.vim-tiny by vim-runtime'\n",
      "Adding 'diversion of /usr/share/vim/vim80/doc/tags to /usr/share/vim/vim80/doc/tags.vim-tiny by vim-runtime'\n",
      "Unpacking vim-runtime (2:8.0.1453-1ubuntu1.4) ...\n",
      "Selecting previously unselected package vim.\n",
      "Preparing to unpack .../15-vim_2%3a8.0.1453-1ubuntu1.4_amd64.deb ...\n",
      "Unpacking vim (2:8.0.1453-1ubuntu1.4) ...\n",
      "Selecting previously unselected package ssh-import-id.\n",
      "Preparing to unpack .../16-ssh-import-id_5.7-0ubuntu1.1_all.deb ...\n",
      "Unpacking ssh-import-id (5.7-0ubuntu1.1) ...\n",
      "Setting up ncurses-term (6.1-1ubuntu1.18.04) ...\n",
      "Setting up xxd (2:8.0.1453-1ubuntu1.4) ...\n",
      "Setting up libgpm2:amd64 (1.20.7-5) ...\n",
      "Setting up python3-idna (2.6-1) ...\n",
      "Setting up python3-six (1.11.0-2) ...\n",
      "Setting up python3-certifi (2018.1.18-2) ...\n",
      "Setting up python3-pkg-resources (39.0.1-2) ...\n",
      "Setting up openssh-sftp-server (1:7.6p1-4ubuntu0.3) ...\n",
      "Setting up python3-chardet (3.0.4-1) ...\n",
      "Setting up vim-common (2:8.0.1453-1ubuntu1.4) ...\n",
      "Setting up vim-runtime (2:8.0.1453-1ubuntu1.4) ...\n",
      "Setting up python3-urllib3 (1.22-1ubuntu0.18.04.2) ...\n",
      "Setting up vim (2:8.0.1453-1ubuntu1.4) ...\n",
      "update-alternatives: using /usr/bin/vim.basic to provide /usr/bin/vim (vim) in auto mode\n",
      "update-alternatives: using /usr/bin/vim.basic to provide /usr/bin/vimdiff (vimdiff) in auto mode\n",
      "update-alternatives: using /usr/bin/vim.basic to provide /usr/bin/rvim (rvim) in auto mode\n",
      "update-alternatives: using /usr/bin/vim.basic to provide /usr/bin/rview (rview) in auto mode\n",
      "update-alternatives: using /usr/bin/vim.basic to provide /usr/bin/vi (vi) in auto mode\n",
      "update-alternatives: using /usr/bin/vim.basic to provide /usr/bin/view (view) in auto mode\n",
      "update-alternatives: using /usr/bin/vim.basic to provide /usr/bin/ex (ex) in auto mode\n",
      "update-alternatives: using /usr/bin/vim.basic to provide /usr/bin/editor (editor) in auto mode\n",
      "Setting up openssh-server (1:7.6p1-4ubuntu0.3) ...\n",
      "\n",
      "Creating config file /etc/ssh/sshd_config with new version\n",
      "Creating SSH2 RSA key; this may take some time ...\n",
      "2048 SHA256:H2ixCOuA08AhJwVz9RCoyoPvJYeqkDBYpC1OW8qEYIc root@f66f84815bbe (RSA)\n",
      "Creating SSH2 ECDSA key; this may take some time ...\n",
      "256 SHA256:WiT9ntBCit6QjypFeMMCx5nUrZYnX3vxJVOARrPHVJ4 root@f66f84815bbe (ECDSA)\n",
      "Creating SSH2 ED25519 key; this may take some time ...\n",
      "256 SHA256:c3pnmbKDD6fV2ygMZlTg55/nYNvB+ZfS2v+NG1P4sNQ root@f66f84815bbe (ED25519)\n",
      "Created symlink /etc/systemd/system/sshd.service → /lib/systemd/system/ssh.service.\n",
      "Created symlink /etc/systemd/system/multi-user.target.wants/ssh.service → /lib/systemd/system/ssh.service.\n",
      "invoke-rc.d: could not determine current runlevel\n",
      "invoke-rc.d: policy-rc.d denied execution of start.\n",
      "Setting up python3-requests (2.18.4-2ubuntu0.1) ...\n",
      "Setting up ssh-import-id (5.7-0ubuntu1.1) ...\n",
      "Setting up ssh (1:7.6p1-4ubuntu0.3) ...\n",
      "Processing triggers for systemd (237-3ubuntu10.47) ...\n",
      "Processing triggers for man-db (2.8.3-2ubuntu0.1) ...\n",
      "Processing triggers for hicolor-icon-theme (0.17-2) ...\n",
      "Processing triggers for mime-support (3.60ubuntu1) ...\n",
      "Processing triggers for libc-bin (2.27-3ubuntu1.2) ...\n",
      "/sbin/ldconfig.real: /usr/local/lib/python3.7/dist-packages/ideep4py/lib/libmkldnn.so.0 is not a symbolic link\n",
      "\n"
     ]
    }
   ],
   "source": [
    "!apt-get install ssh tmux vim"
   ]
  },
  {
   "cell_type": "code",
   "execution_count": null,
   "metadata": {
    "colab": {
     "base_uri": "https://localhost:8080/"
    },
    "id": "kO66WEXBrdOt",
    "outputId": "45fc28e8-bb6d-4d15-d291-d086a80d9803"
   },
   "outputs": [
    {
     "name": "stdout",
     "output_type": "stream",
     "text": [
      "cp: cannot stat '/drive/ngrok-ssh/sshd_config': No such file or directory\n",
      " * Restarting OpenBSD Secure Shell server sshd\n",
      "   ...done.\n"
     ]
    }
   ],
   "source": [
    "!cp /drive/ngrok-ssh/sshd_config /etc/ssh/sshd_config\n",
    "!service ssh restart\n",
    "!mkdir -p ~/.ssh"
   ]
  },
  {
   "cell_type": "code",
   "execution_count": null,
   "metadata": {
    "colab": {
     "base_uri": "https://localhost:8080/"
    },
    "id": "bjOCICR4rupV",
    "outputId": "f896a1da-6de8-4f68-bb84-96245fb51f17"
   },
   "outputs": [
    {
     "name": "stdout",
     "output_type": "stream",
     "text": [
      "/drive/ngrok-ssh\n",
      "--2021-06-25 01:00:54--  https://bin.equinox.io/c/4VmDzA7iaHb/ngrok-stable-linux-amd64.zip\n",
      "Resolving bin.equinox.io (bin.equinox.io)... 35.174.24.146, 3.223.73.198, 34.233.212.111, ...\n",
      "Connecting to bin.equinox.io (bin.equinox.io)|35.174.24.146|:443... connected.\n",
      "HTTP request sent, awaiting response... 200 OK\n",
      "Length: 13832437 (13M) [application/octet-stream]\n",
      "Saving to: ‘ngrok-stable-linux-amd64.zip’\n",
      "\n",
      "ngrok-stable-linux- 100%[===================>]  13.19M  35.3MB/s    in 0.4s    \n",
      "\n",
      "2021-06-25 01:00:55 (35.3 MB/s) - ‘ngrok-stable-linux-amd64.zip’ saved [13832437/13832437]\n",
      "\n",
      "Archive:  ngrok-stable-linux-amd64.zip\n",
      "  inflating: ngrok                   \n"
     ]
    }
   ],
   "source": [
    "!mkdir -p /drive/ngrok-ssh\n",
    "%cd /drive/ngrok-ssh\n",
    "!wget https://bin.equinox.io/c/4VmDzA7iaHb/ngrok-stable-linux-amd64.zip -O ngrok-stable-linux-amd64.zip\n",
    "!unzip -u ngrok-stable-linux-amd64.zip\n",
    "!cp /drive/ngrok-ssh/ngrok /ngrok\n",
    "!chmod +x /ngrok"
   ]
  },
  {
   "cell_type": "markdown",
   "metadata": {
    "id": "0507_Il04-EH"
   },
   "source": [
    "# USING STREAMLIT WE WILL DEPLOY OUR MODEL ONTO WEB"
   ]
  },
  {
   "cell_type": "code",
   "execution_count": null,
   "metadata": {
    "colab": {
     "base_uri": "https://localhost:8080/"
    },
    "id": "vaGaarOEkD3O",
    "outputId": "df58dbd1-8824-4e63-cef4-eee4b0dc5840"
   },
   "outputs": [
    {
     "name": "stdout",
     "output_type": "stream",
     "text": [
      "Overwriting app.py\n"
     ]
    }
   ],
   "source": [
    "%%writefile app.py\n",
    "import streamlit as st\n",
    "import tensorflow as tf\n",
    "from keras.models import load_model\n",
    "\n",
    "st.set_option('deprecation.showfileUploaderEncoding',False)\n",
    "@st.cache(allow_output_mutation=True)\n",
    "def load_classfication_model():\n",
    "  model = load_model('/content/model_pneumonia_detection.h5')\n",
    "  return model\n",
    "\n",
    "model = load_classfication_model()\n",
    "\n",
    "st.write(\"\"\"\n",
    "          # PNEUMONIA DETECTION USING CNN\n",
    "          \"\"\")\n",
    "\n",
    "file = st.file_uploader(\"Please upload a Chest XRAY IMAGE\",type = [\"jpeg\",\"jpg\",\"png\"])\n",
    "\n",
    "import cv2\n",
    "from PIL import Image, ImageOps\n",
    "import numpy as np\n",
    "\n",
    "def import_and_predict(image_data,model):\n",
    "\n",
    "  size = (224,224)\n",
    "  image = ImageOps.fit(image_data,size,Image.ANTIALIAS)\n",
    "  img = np.asarray(image)\n",
    "  img_reshape = img[np.newaxis,...]\n",
    "  prediction = model.predict(img_reshape)\n",
    "\n",
    "  return prediction\n",
    "\n",
    "if file is None:\n",
    "  st.text(\"Please upload an image file\")\n",
    "else:\n",
    "  image = Image.open(file)\n",
    "  st.image(image,use_column_width=True)\n",
    "  predictions = import_and_predict(image,model)\n",
    "  class_names = ['Normal','Pneumonia']\n",
    "  string = \"This particular image most likely is :\"+class_names[np.argmax(predictions)]\n",
    "  st.success(string)"
   ]
  },
  {
   "cell_type": "markdown",
   "metadata": {
    "id": "G3-3a0be5MGf"
   },
   "source": [
    "# BEFORE GOING FURTHER WE HAVE TO SIGNUP IN NGROK WEBSITE, FROM WHERE WE CAN GET OUR AUTHENTICATION TOKEN WHICH WE WILL BE USING TO DEPLOY OUR MODEL\n",
    "\n",
    "HERE IS THE SITE WHERE YOU CAN SIGN UP: https://ngrok.com/"
   ]
  },
  {
   "cell_type": "code",
   "execution_count": null,
   "metadata": {
    "colab": {
     "base_uri": "https://localhost:8080/"
    },
    "id": "HnCASLHKp3oI",
    "outputId": "6a2328e6-2246-4085-9092-40b74abc431a"
   },
   "outputs": [
    {
     "name": "stdout",
     "output_type": "stream",
     "text": [
      "Authtoken saved to configuration file: /root/.ngrok2/ngrok.yml\n"
     ]
    }
   ],
   "source": [
    "!ngrok authtoken 1uQ0PW5QlVLTkUV4g173FKcCTvx_2pGUeCtN1aeBJokxhUUzY"
   ]
  },
  {
   "cell_type": "code",
   "execution_count": null,
   "metadata": {
    "colab": {
     "base_uri": "https://localhost:8080/"
    },
    "id": "TAb2UY2Cvquv",
    "outputId": "f24c37af-a105-40b8-9632-896651b639b6"
   },
   "outputs": [
    {
     "name": "stdout",
     "output_type": "stream",
     "text": [
      "nohup: appending output to 'nohup.out'\n"
     ]
    }
   ],
   "source": [
    "# THIS IS THE DEFAULT SERVER WHERE OUR STREAMLIT MODEL WILL GET DEPLOYED\n",
    "!nohup streamlit run --server.port 80 app.py &"
   ]
  },
  {
   "cell_type": "code",
   "execution_count": null,
   "metadata": {
    "colab": {
     "base_uri": "https://localhost:8080/"
    },
    "id": "o-5lfn5msB1c",
    "outputId": "70a27139-6545-440b-fdae-c57b63cbd4d1"
   },
   "outputs": [
    {
     "data": {
      "text/plain": [
       "<NgrokTunnel: \"http://94d1e4cfe70f.ngrok.io\" -> \"http://localhost:80\">"
      ]
     },
     "execution_count": 57,
     "metadata": {
      "tags": []
     },
     "output_type": "execute_result"
    }
   ],
   "source": [
    "# USING PYNGROK SO THAT WE CAN CHECK THE URL WHERE OUR MODEL IS BEING DEPLOYED\n",
    "from pyngrok import ngrok\n",
    "url = ngrok.connect(port = 8501)\n",
    "url"
   ]
  },
  {
   "cell_type": "code",
   "execution_count": null,
   "metadata": {
    "id": "bkfmspJsrxLv"
   },
   "outputs": [],
   "source": [
    "# RUN THIS CELL IF YOU WANT TO KILL ANY TUNNELS WHICH ARE RUNNING ON YOUR ID\n",
    "ngrok.kill()"
   ]
  },
  {
   "cell_type": "code",
   "execution_count": null,
   "metadata": {
    "id": "QHzrMNUE0aUA"
   },
   "outputs": [],
   "source": []
  }
 ],
 "metadata": {
  "accelerator": "GPU",
  "colab": {
   "collapsed_sections": [],
   "name": "PNEUMONIA DETECTION USING CNN.ipynb",
   "provenance": []
  },
  "kernelspec": {
   "display_name": "Python 3 (ipykernel)",
   "language": "python",
   "name": "python3"
  },
  "language_info": {
   "codemirror_mode": {
    "name": "ipython",
    "version": 3
   },
   "file_extension": ".py",
   "mimetype": "text/x-python",
   "name": "python",
   "nbconvert_exporter": "python",
   "pygments_lexer": "ipython3",
   "version": "3.11.5"
  }
 },
 "nbformat": 4,
 "nbformat_minor": 1
}
